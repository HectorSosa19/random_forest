{
 "cells": [
  {
   "cell_type": "code",
   "execution_count": 20,
   "id": "4ad8da7b-930f-48a8-ae57-8c10fa10705c",
   "metadata": {},
   "outputs": [
    {
     "name": "stdout",
     "output_type": "stream",
     "text": [
      "      fixed acidity  volatile acidity  citric acid  ...  sulphates  alcohol  quality\n",
      "0               7.0              0.27         0.36  ...       0.45      8.8        6\n",
      "1               6.3              0.30         0.34  ...       0.49      9.5        6\n",
      "2               8.1              0.28         0.40  ...       0.44     10.1        6\n",
      "3               7.2              0.23         0.32  ...       0.40      9.9        6\n",
      "4               7.2              0.23         0.32  ...       0.40      9.9        6\n",
      "...             ...               ...          ...  ...        ...      ...      ...\n",
      "4893            6.2              0.21         0.29  ...       0.50     11.2        6\n",
      "4894            6.6              0.32         0.36  ...       0.46      9.6        5\n",
      "4895            6.5              0.24         0.19  ...       0.46      9.4        6\n",
      "4896            5.5              0.29         0.30  ...       0.38     12.8        7\n",
      "4897            6.0              0.21         0.38  ...       0.32     11.8        6\n",
      "\n",
      "[4898 rows x 12 columns]\n",
      "Presition model: 0.6948979591836735\n",
      "Ranking Report:\n",
      "               precision    recall  f1-score   support\n",
      "\n",
      "           3       1.00      0.00      0.00         5\n",
      "           4       0.56      0.20      0.29        25\n",
      "           5       0.71      0.70      0.71       291\n",
      "           6       0.66      0.80      0.72       432\n",
      "           7       0.77      0.58      0.66       192\n",
      "           8       0.80      0.46      0.58        35\n",
      "\n",
      "    accuracy                           0.69       980\n",
      "   macro avg       0.75      0.46      0.50       980\n",
      "weighted avg       0.70      0.69      0.69       980\n",
      "\n"
     ]
    }
   ],
   "source": [
    "#Imports\n",
    "import pandas as pd\n",
    "from sklearn.model_selection import train_test_split\n",
    "from sklearn.ensemble import RandomForestClassifier\n",
    "from sklearn.metrics import accuracy_score, classification_report\n",
    "\n",
    "# Read all data\n",
    "read_file = pd.read_csv(\"../wines/wine-quality.csv\")\n",
    "print(read_file)\n",
    "# Fill null values \n",
    "read_file.fillna(read_file.mean(), inplace=True)\n",
    "\n",
    "#Format data\n",
    "wine_data = pd.DataFrame(read_file)\n",
    "\n",
    "# Divide X & Y props\n",
    "x = wine_data.drop('quality', axis=1)\n",
    "y = wine_data['quality']\n",
    "\n",
    "# Divide variable category to test and training\n",
    "x_train, x_test, y_train, y_test = train_test_split(x, y, test_size=0.2, random_state=42)\n",
    "\n",
    "# Random forest Classifier - Model Clasification\n",
    "model_random_forest_classifier = RandomForestClassifier(n_estimators=100, random_state=42)\n",
    "model_random_forest_classifier.fit(x_train, y_train)\n",
    "\n",
    "#Predict data\n",
    "y_pred = model_random_forest_classifier.predict(x_test)\n",
    "presition = accuracy_score(y_test, y_pred)\n",
    "\n",
    "#Response\n",
    "print(\"Presition model:\", presition)\n",
    "print(\"Ranking Report:\\n\", classification_report(y_test, y_pred, zero_division=1))\n"
   ]
  }
 ],
 "metadata": {
  "kernelspec": {
   "display_name": "Python 3",
   "language": "python",
   "name": "python3"
  },
  "language_info": {
   "codemirror_mode": {
    "name": "ipython",
    "version": 3
   },
   "file_extension": ".py",
   "mimetype": "text/x-python",
   "name": "python",
   "nbconvert_exporter": "python",
   "pygments_lexer": "ipython3",
   "version": "3.12.6"
  }
 },
 "nbformat": 4,
 "nbformat_minor": 5
}
