{
 "cells": [
  {
   "cell_type": "code",
   "execution_count": 3,
   "id": "09bfd04d-2153-4ff2-a423-1e92aecca368",
   "metadata": {},
   "outputs": [
    {
     "name": "stdout",
     "output_type": "stream",
     "text": [
      "MSE:0.34775581632653063 , R^2 : 0.5509775612930288\n"
     ]
    }
   ],
   "source": [
    "#Imports\n",
    "import pandas as pd\n",
    "from sklearn.model_selection import train_test_split\n",
    "from sklearn.ensemble import RandomForestRegressor\n",
    "from sklearn.metrics import mean_squared_error , r2_score\n",
    "#Reading file\n",
    "read_file = pd.read_csv(\"../wines/wine-quality.csv\")\n",
    "\n",
    "# Fill the values , is not necessary manage values but just in case\n",
    "read_file.fillna(read_file.mean(),inplace=True)\n",
    "\n",
    "#based in quality of wine \n",
    "x = read_file[['fixed acidity', 'volatile acidity','citric acid','residual sugar' \n",
    "               ,'chlorides','free sulfur dioxide' , 'total sulfur dioxide','density' ,\n",
    "               'pH' , 'sulphates' , 'alcohol']]\n",
    "y = read_file['quality']\n",
    "\n",
    "#Training model , training and testing\n",
    "x_train , x_test , y_train , y_test = train_test_split(x,y , test_size=0.2 ,random_state= 42)\n",
    "\n",
    "# Random Forest Regressor\n",
    "model_random_forest = RandomForestRegressor(n_estimators=100 , random_state= 42)\n",
    "model_random_forest.fit(x_train , y_train)\n",
    "\n",
    "y_pred = model_random_forest.predict(x_test)\n",
    "#MSE & R2 \n",
    "mse = mean_squared_error(y_test , y_pred)\n",
    "r2 = r2_score(y_test , y_pred)\n",
    "\n",
    "#Response\n",
    "print(f'MSE:{mse} , R^2 : {r2}')\n",
    "\n"
   ]
  }
 ],
 "metadata": {
  "kernelspec": {
   "display_name": "Python 3 (ipykernel)",
   "language": "python",
   "name": "python3"
  },
  "language_info": {
   "codemirror_mode": {
    "name": "ipython",
    "version": 3
   },
   "file_extension": ".py",
   "mimetype": "text/x-python",
   "name": "python",
   "nbconvert_exporter": "python",
   "pygments_lexer": "ipython3",
   "version": "3.12.6"
  }
 },
 "nbformat": 4,
 "nbformat_minor": 5
}
