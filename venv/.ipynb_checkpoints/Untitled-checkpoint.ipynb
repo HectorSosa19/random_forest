{
 "cells": [
  {
   "cell_type": "code",
   "execution_count": 1,
   "id": "09bfd04d-2153-4ff2-a423-1e92aecca368",
   "metadata": {},
   "outputs": [],
   "source": [
    "# import pandas as pd\n",
    "# import sklearn as sk\n",
    "# import numpy as np\n",
    "\n",
    "# read_csv = pd.read_csv(\"../wines/wine-quality.csv\")\n",
    "# Importar las bibliotecas necesarias\n",
    "from sklearn.tree import DecisionTreeClassifier\n",
    "from sklearn.metrics import accuracy_score\n",
    "\n",
    "# Crear un conjunto de datos de frutas\n",
    "data = {\n",
    "    'Color': ['Rojo', 'Naranja', 'Amarillo', 'Rojo', 'Amarillo', 'Naranja', 'Naranja', 'Amarillo'],\n",
    "    'Tamaño': ['Pequeño', 'Mediano', 'Grande', 'Mediano', 'Grande', 'Pequeño', 'Grande', 'Mediano'],\n",
    "    'Textura': ['Suave', 'Rugosa', 'Suave', 'Suave', 'Rugosa', 'Suave', 'Rugosa', 'Rugosa'],\n",
    "    'Clase': ['Manzana', 'Naranja', 'Plátano', 'Manzana', 'Plátano', 'Naranja', 'Naranja', 'Plátano']\n",
    "}\n",
    "\n",
    "# Crear un DataFrame de pandas\n",
    "import pandas as pd\n",
    "df = pd.DataFrame(data)\n",
    "\n",
    "# Convertir características categóricas en numéricas\n",
    "df = pd.get_dummies(df, columns=['Color', 'Tamaño', 'Textura'])\n",
    "\n",
    "# Dividir el conjunto de datos en características (X) y etiquetas (y)\n",
    "X = df.drop('Clase', axis=1)\n",
    "y = df['Clase']\n",
    "\n",
    "# Crear un modelo de árbol de decisión\n",
    "modelo_arbol = DecisionTreeClassifier()\n",
    "\n",
    "# Entrenar el modelo\n",
    "modelo_arbol.fit(X, y)\n",
    "\n",
    "# Ejemplo de predicción para una nueva fruta\n",
    "nueva_fruta = pd.DataFrame({'Color_Rojo': [1], 'Color_Naranja': [1], 'Color_Amarillo': [0],\n",
    "                            'Tamaño_Pequeño': [0], 'Tamaño_Mediano': [1], 'Tamaño_Grande': [0],\n",
    "                            'Textura_Suave': [1], 'Textura_Rugosa': [0]})\n",
    "prediccion = modelo_arbol.predict(nueva_fruta)\n",
    "print(\"Predicción para la nueva fruta:\", prediccion)"
   ]
  }
 ],
 "metadata": {
  "kernelspec": {
   "display_name": "Python 3 (ipykernel)",
   "language": "python",
   "name": "python3"
  },
  "language_info": {
   "codemirror_mode": {
    "name": "ipython",
    "version": 3
   },
   "file_extension": ".py",
   "mimetype": "text/x-python",
   "name": "python",
   "nbconvert_exporter": "python",
   "pygments_lexer": "ipython3",
   "version": "3.12.6"
  }
 },
 "nbformat": 4,
 "nbformat_minor": 5
}
